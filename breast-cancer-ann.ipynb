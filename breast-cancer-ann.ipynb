{
 "cells": [
  {
   "cell_type": "code",
   "execution_count": 1,
   "id": "0e5c2a6f",
   "metadata": {
    "_cell_guid": "b1076dfc-b9ad-4769-8c92-a6c4dae69d19",
    "_uuid": "8f2839f25d086af736a60e9eeb907d3b93b6e0e5",
    "execution": {
     "iopub.execute_input": "2022-11-19T05:28:20.675463Z",
     "iopub.status.busy": "2022-11-19T05:28:20.674811Z",
     "iopub.status.idle": "2022-11-19T05:28:20.700926Z",
     "shell.execute_reply": "2022-11-19T05:28:20.699284Z"
    },
    "papermill": {
     "duration": 0.043631,
     "end_time": "2022-11-19T05:28:20.705386",
     "exception": false,
     "start_time": "2022-11-19T05:28:20.661755",
     "status": "completed"
    },
    "tags": []
   },
   "outputs": [
    {
     "name": "stdout",
     "output_type": "stream",
     "text": [
      "/kaggle/input/breast-cancer-prediction-dataset/Breast_cancer_data.csv\n"
     ]
    }
   ],
   "source": [
    "# This Python 3 environment comes with many helpful analytics libraries installed\n",
    "# It is defined by the kaggle/python Docker image: https://github.com/kaggle/docker-python\n",
    "# For example, here's several helpful packages to load\n",
    "\n",
    "import numpy as np # linear algebra\n",
    "import pandas as pd # data processing, CSV file I/O (e.g. pd.read_csv)\n",
    "\n",
    "# Input data files are available in the read-only \"../input/\" directory\n",
    "# For example, running this (by clicking run or pressing Shift+Enter) will list all files under the input directory\n",
    "\n",
    "import os\n",
    "for dirname, _, filenames in os.walk('/kaggle/input'):\n",
    "    for filename in filenames:\n",
    "        print(os.path.join(dirname, filename))\n",
    "\n",
    "# You can write up to 20GB to the current directory (/kaggle/working/) that gets preserved as output when you create a version using \"Save & Run All\" \n",
    "# You can also write temporary files to /kaggle/temp/, but they won't be saved outside of the current session"
   ]
  },
  {
   "cell_type": "code",
   "execution_count": 2,
   "id": "b96691e9",
   "metadata": {
    "execution": {
     "iopub.execute_input": "2022-11-19T05:28:20.726966Z",
     "iopub.status.busy": "2022-11-19T05:28:20.725867Z",
     "iopub.status.idle": "2022-11-19T05:28:22.102874Z",
     "shell.execute_reply": "2022-11-19T05:28:22.101576Z"
    },
    "papermill": {
     "duration": 1.390359,
     "end_time": "2022-11-19T05:28:22.105872",
     "exception": false,
     "start_time": "2022-11-19T05:28:20.715513",
     "status": "completed"
    },
    "tags": []
   },
   "outputs": [],
   "source": [
    "import numpy as np\n",
    "import pandas as pd\n",
    "import matplotlib.pyplot as plt\n",
    "import sklearn.datasets\n",
    "from sklearn.model_selection import train_test_split"
   ]
  },
  {
   "cell_type": "code",
   "execution_count": 3,
   "id": "81e86def",
   "metadata": {
    "execution": {
     "iopub.execute_input": "2022-11-19T05:28:22.125148Z",
     "iopub.status.busy": "2022-11-19T05:28:22.124687Z",
     "iopub.status.idle": "2022-11-19T05:28:22.147253Z",
     "shell.execute_reply": "2022-11-19T05:28:22.145860Z"
    },
    "papermill": {
     "duration": 0.035407,
     "end_time": "2022-11-19T05:28:22.149999",
     "exception": false,
     "start_time": "2022-11-19T05:28:22.114592",
     "status": "completed"
    },
    "tags": []
   },
   "outputs": [],
   "source": [
    "# loading the data from sklearn\n",
    "data_frame = pd.read_csv(\"/kaggle/input/breast-cancer-prediction-dataset/Breast_cancer_data.csv\")"
   ]
  },
  {
   "cell_type": "code",
   "execution_count": 4,
   "id": "b2ef95b3",
   "metadata": {
    "execution": {
     "iopub.execute_input": "2022-11-19T05:28:22.169264Z",
     "iopub.status.busy": "2022-11-19T05:28:22.168834Z",
     "iopub.status.idle": "2022-11-19T05:28:22.188672Z",
     "shell.execute_reply": "2022-11-19T05:28:22.187241Z"
    },
    "papermill": {
     "duration": 0.032578,
     "end_time": "2022-11-19T05:28:22.191614",
     "exception": false,
     "start_time": "2022-11-19T05:28:22.159036",
     "status": "completed"
    },
    "tags": []
   },
   "outputs": [
    {
     "name": "stdout",
     "output_type": "stream",
     "text": [
      "     mean_radius  mean_texture  mean_perimeter  mean_area  mean_smoothness  \\\n",
      "0          17.99         10.38          122.80     1001.0          0.11840   \n",
      "1          20.57         17.77          132.90     1326.0          0.08474   \n",
      "2          19.69         21.25          130.00     1203.0          0.10960   \n",
      "3          11.42         20.38           77.58      386.1          0.14250   \n",
      "4          20.29         14.34          135.10     1297.0          0.10030   \n",
      "..           ...           ...             ...        ...              ...   \n",
      "564        21.56         22.39          142.00     1479.0          0.11100   \n",
      "565        20.13         28.25          131.20     1261.0          0.09780   \n",
      "566        16.60         28.08          108.30      858.1          0.08455   \n",
      "567        20.60         29.33          140.10     1265.0          0.11780   \n",
      "568         7.76         24.54           47.92      181.0          0.05263   \n",
      "\n",
      "     diagnosis  \n",
      "0            0  \n",
      "1            0  \n",
      "2            0  \n",
      "3            0  \n",
      "4            0  \n",
      "..         ...  \n",
      "564          0  \n",
      "565          0  \n",
      "566          0  \n",
      "567          0  \n",
      "568          1  \n",
      "\n",
      "[569 rows x 6 columns]\n"
     ]
    }
   ],
   "source": [
    "print(data_frame)"
   ]
  },
  {
   "cell_type": "code",
   "execution_count": 5,
   "id": "d9c886fd",
   "metadata": {
    "execution": {
     "iopub.execute_input": "2022-11-19T05:28:22.214343Z",
     "iopub.status.busy": "2022-11-19T05:28:22.212347Z",
     "iopub.status.idle": "2022-11-19T05:28:22.236972Z",
     "shell.execute_reply": "2022-11-19T05:28:22.236040Z"
    },
    "papermill": {
     "duration": 0.039613,
     "end_time": "2022-11-19T05:28:22.240043",
     "exception": false,
     "start_time": "2022-11-19T05:28:22.200430",
     "status": "completed"
    },
    "tags": []
   },
   "outputs": [
    {
     "data": {
      "text/html": [
       "<div>\n",
       "<style scoped>\n",
       "    .dataframe tbody tr th:only-of-type {\n",
       "        vertical-align: middle;\n",
       "    }\n",
       "\n",
       "    .dataframe tbody tr th {\n",
       "        vertical-align: top;\n",
       "    }\n",
       "\n",
       "    .dataframe thead th {\n",
       "        text-align: right;\n",
       "    }\n",
       "</style>\n",
       "<table border=\"1\" class=\"dataframe\">\n",
       "  <thead>\n",
       "    <tr style=\"text-align: right;\">\n",
       "      <th></th>\n",
       "      <th>mean_radius</th>\n",
       "      <th>mean_texture</th>\n",
       "      <th>mean_perimeter</th>\n",
       "      <th>mean_area</th>\n",
       "      <th>mean_smoothness</th>\n",
       "      <th>diagnosis</th>\n",
       "    </tr>\n",
       "  </thead>\n",
       "  <tbody>\n",
       "    <tr>\n",
       "      <th>0</th>\n",
       "      <td>17.99</td>\n",
       "      <td>10.38</td>\n",
       "      <td>122.80</td>\n",
       "      <td>1001.0</td>\n",
       "      <td>0.11840</td>\n",
       "      <td>0</td>\n",
       "    </tr>\n",
       "    <tr>\n",
       "      <th>1</th>\n",
       "      <td>20.57</td>\n",
       "      <td>17.77</td>\n",
       "      <td>132.90</td>\n",
       "      <td>1326.0</td>\n",
       "      <td>0.08474</td>\n",
       "      <td>0</td>\n",
       "    </tr>\n",
       "    <tr>\n",
       "      <th>2</th>\n",
       "      <td>19.69</td>\n",
       "      <td>21.25</td>\n",
       "      <td>130.00</td>\n",
       "      <td>1203.0</td>\n",
       "      <td>0.10960</td>\n",
       "      <td>0</td>\n",
       "    </tr>\n",
       "    <tr>\n",
       "      <th>3</th>\n",
       "      <td>11.42</td>\n",
       "      <td>20.38</td>\n",
       "      <td>77.58</td>\n",
       "      <td>386.1</td>\n",
       "      <td>0.14250</td>\n",
       "      <td>0</td>\n",
       "    </tr>\n",
       "    <tr>\n",
       "      <th>4</th>\n",
       "      <td>20.29</td>\n",
       "      <td>14.34</td>\n",
       "      <td>135.10</td>\n",
       "      <td>1297.0</td>\n",
       "      <td>0.10030</td>\n",
       "      <td>0</td>\n",
       "    </tr>\n",
       "  </tbody>\n",
       "</table>\n",
       "</div>"
      ],
      "text/plain": [
       "   mean_radius  mean_texture  mean_perimeter  mean_area  mean_smoothness  \\\n",
       "0        17.99         10.38          122.80     1001.0          0.11840   \n",
       "1        20.57         17.77          132.90     1326.0          0.08474   \n",
       "2        19.69         21.25          130.00     1203.0          0.10960   \n",
       "3        11.42         20.38           77.58      386.1          0.14250   \n",
       "4        20.29         14.34          135.10     1297.0          0.10030   \n",
       "\n",
       "   diagnosis  \n",
       "0          0  \n",
       "1          0  \n",
       "2          0  \n",
       "3          0  \n",
       "4          0  "
      ]
     },
     "execution_count": 5,
     "metadata": {},
     "output_type": "execute_result"
    }
   ],
   "source": [
    "# print the first 5 rows of the dataframe\n",
    "data_frame.head()"
   ]
  },
  {
   "cell_type": "code",
   "execution_count": 6,
   "id": "a3727f85",
   "metadata": {
    "execution": {
     "iopub.execute_input": "2022-11-19T05:28:22.270087Z",
     "iopub.status.busy": "2022-11-19T05:28:22.268905Z",
     "iopub.status.idle": "2022-11-19T05:28:22.298167Z",
     "shell.execute_reply": "2022-11-19T05:28:22.296747Z"
    },
    "papermill": {
     "duration": 0.047358,
     "end_time": "2022-11-19T05:28:22.301148",
     "exception": false,
     "start_time": "2022-11-19T05:28:22.253790",
     "status": "completed"
    },
    "tags": []
   },
   "outputs": [
    {
     "name": "stdout",
     "output_type": "stream",
     "text": [
      "<class 'pandas.core.frame.DataFrame'>\n",
      "RangeIndex: 569 entries, 0 to 568\n",
      "Data columns (total 6 columns):\n",
      " #   Column           Non-Null Count  Dtype  \n",
      "---  ------           --------------  -----  \n",
      " 0   mean_radius      569 non-null    float64\n",
      " 1   mean_texture     569 non-null    float64\n",
      " 2   mean_perimeter   569 non-null    float64\n",
      " 3   mean_area        569 non-null    float64\n",
      " 4   mean_smoothness  569 non-null    float64\n",
      " 5   diagnosis        569 non-null    int64  \n",
      "dtypes: float64(5), int64(1)\n",
      "memory usage: 26.8 KB\n"
     ]
    }
   ],
   "source": [
    "# getting some information about the data\n",
    "data_frame.info()"
   ]
  },
  {
   "cell_type": "code",
   "execution_count": 7,
   "id": "b3622e52",
   "metadata": {
    "execution": {
     "iopub.execute_input": "2022-11-19T05:28:22.326426Z",
     "iopub.status.busy": "2022-11-19T05:28:22.324896Z",
     "iopub.status.idle": "2022-11-19T05:28:22.335955Z",
     "shell.execute_reply": "2022-11-19T05:28:22.334666Z"
    },
    "papermill": {
     "duration": 0.027319,
     "end_time": "2022-11-19T05:28:22.338483",
     "exception": false,
     "start_time": "2022-11-19T05:28:22.311164",
     "status": "completed"
    },
    "tags": []
   },
   "outputs": [
    {
     "data": {
      "text/plain": [
       "mean_radius        0\n",
       "mean_texture       0\n",
       "mean_perimeter     0\n",
       "mean_area          0\n",
       "mean_smoothness    0\n",
       "diagnosis          0\n",
       "dtype: int64"
      ]
     },
     "execution_count": 7,
     "metadata": {},
     "output_type": "execute_result"
    }
   ],
   "source": [
    "# checking for missing values\n",
    "data_frame.isnull().sum()"
   ]
  },
  {
   "cell_type": "code",
   "execution_count": 8,
   "id": "dee6e9a5",
   "metadata": {
    "execution": {
     "iopub.execute_input": "2022-11-19T05:28:22.358914Z",
     "iopub.status.busy": "2022-11-19T05:28:22.357972Z",
     "iopub.status.idle": "2022-11-19T05:28:22.392627Z",
     "shell.execute_reply": "2022-11-19T05:28:22.391430Z"
    },
    "papermill": {
     "duration": 0.047562,
     "end_time": "2022-11-19T05:28:22.395183",
     "exception": false,
     "start_time": "2022-11-19T05:28:22.347621",
     "status": "completed"
    },
    "tags": []
   },
   "outputs": [
    {
     "data": {
      "text/html": [
       "<div>\n",
       "<style scoped>\n",
       "    .dataframe tbody tr th:only-of-type {\n",
       "        vertical-align: middle;\n",
       "    }\n",
       "\n",
       "    .dataframe tbody tr th {\n",
       "        vertical-align: top;\n",
       "    }\n",
       "\n",
       "    .dataframe thead th {\n",
       "        text-align: right;\n",
       "    }\n",
       "</style>\n",
       "<table border=\"1\" class=\"dataframe\">\n",
       "  <thead>\n",
       "    <tr style=\"text-align: right;\">\n",
       "      <th></th>\n",
       "      <th>mean_radius</th>\n",
       "      <th>mean_texture</th>\n",
       "      <th>mean_perimeter</th>\n",
       "      <th>mean_area</th>\n",
       "      <th>mean_smoothness</th>\n",
       "      <th>diagnosis</th>\n",
       "    </tr>\n",
       "  </thead>\n",
       "  <tbody>\n",
       "    <tr>\n",
       "      <th>count</th>\n",
       "      <td>569.000000</td>\n",
       "      <td>569.000000</td>\n",
       "      <td>569.000000</td>\n",
       "      <td>569.000000</td>\n",
       "      <td>569.000000</td>\n",
       "      <td>569.000000</td>\n",
       "    </tr>\n",
       "    <tr>\n",
       "      <th>mean</th>\n",
       "      <td>14.127292</td>\n",
       "      <td>19.289649</td>\n",
       "      <td>91.969033</td>\n",
       "      <td>654.889104</td>\n",
       "      <td>0.096360</td>\n",
       "      <td>0.627417</td>\n",
       "    </tr>\n",
       "    <tr>\n",
       "      <th>std</th>\n",
       "      <td>3.524049</td>\n",
       "      <td>4.301036</td>\n",
       "      <td>24.298981</td>\n",
       "      <td>351.914129</td>\n",
       "      <td>0.014064</td>\n",
       "      <td>0.483918</td>\n",
       "    </tr>\n",
       "    <tr>\n",
       "      <th>min</th>\n",
       "      <td>6.981000</td>\n",
       "      <td>9.710000</td>\n",
       "      <td>43.790000</td>\n",
       "      <td>143.500000</td>\n",
       "      <td>0.052630</td>\n",
       "      <td>0.000000</td>\n",
       "    </tr>\n",
       "    <tr>\n",
       "      <th>25%</th>\n",
       "      <td>11.700000</td>\n",
       "      <td>16.170000</td>\n",
       "      <td>75.170000</td>\n",
       "      <td>420.300000</td>\n",
       "      <td>0.086370</td>\n",
       "      <td>0.000000</td>\n",
       "    </tr>\n",
       "    <tr>\n",
       "      <th>50%</th>\n",
       "      <td>13.370000</td>\n",
       "      <td>18.840000</td>\n",
       "      <td>86.240000</td>\n",
       "      <td>551.100000</td>\n",
       "      <td>0.095870</td>\n",
       "      <td>1.000000</td>\n",
       "    </tr>\n",
       "    <tr>\n",
       "      <th>75%</th>\n",
       "      <td>15.780000</td>\n",
       "      <td>21.800000</td>\n",
       "      <td>104.100000</td>\n",
       "      <td>782.700000</td>\n",
       "      <td>0.105300</td>\n",
       "      <td>1.000000</td>\n",
       "    </tr>\n",
       "    <tr>\n",
       "      <th>max</th>\n",
       "      <td>28.110000</td>\n",
       "      <td>39.280000</td>\n",
       "      <td>188.500000</td>\n",
       "      <td>2501.000000</td>\n",
       "      <td>0.163400</td>\n",
       "      <td>1.000000</td>\n",
       "    </tr>\n",
       "  </tbody>\n",
       "</table>\n",
       "</div>"
      ],
      "text/plain": [
       "       mean_radius  mean_texture  mean_perimeter    mean_area  \\\n",
       "count   569.000000    569.000000      569.000000   569.000000   \n",
       "mean     14.127292     19.289649       91.969033   654.889104   \n",
       "std       3.524049      4.301036       24.298981   351.914129   \n",
       "min       6.981000      9.710000       43.790000   143.500000   \n",
       "25%      11.700000     16.170000       75.170000   420.300000   \n",
       "50%      13.370000     18.840000       86.240000   551.100000   \n",
       "75%      15.780000     21.800000      104.100000   782.700000   \n",
       "max      28.110000     39.280000      188.500000  2501.000000   \n",
       "\n",
       "       mean_smoothness   diagnosis  \n",
       "count       569.000000  569.000000  \n",
       "mean          0.096360    0.627417  \n",
       "std           0.014064    0.483918  \n",
       "min           0.052630    0.000000  \n",
       "25%           0.086370    0.000000  \n",
       "50%           0.095870    1.000000  \n",
       "75%           0.105300    1.000000  \n",
       "max           0.163400    1.000000  "
      ]
     },
     "execution_count": 8,
     "metadata": {},
     "output_type": "execute_result"
    }
   ],
   "source": [
    "# statistical measures about the data\n",
    "data_frame.describe()"
   ]
  },
  {
   "cell_type": "code",
   "execution_count": 9,
   "id": "8c9afac5",
   "metadata": {
    "execution": {
     "iopub.execute_input": "2022-11-19T05:28:22.416214Z",
     "iopub.status.busy": "2022-11-19T05:28:22.415739Z",
     "iopub.status.idle": "2022-11-19T05:28:22.425048Z",
     "shell.execute_reply": "2022-11-19T05:28:22.423841Z"
    },
    "papermill": {
     "duration": 0.02294,
     "end_time": "2022-11-19T05:28:22.427674",
     "exception": false,
     "start_time": "2022-11-19T05:28:22.404734",
     "status": "completed"
    },
    "tags": []
   },
   "outputs": [
    {
     "data": {
      "text/plain": [
       "1    357\n",
       "0    212\n",
       "Name: diagnosis, dtype: int64"
      ]
     },
     "execution_count": 9,
     "metadata": {},
     "output_type": "execute_result"
    }
   ],
   "source": [
    "# checking the distribution of Target Varibale\n",
    "data_frame['diagnosis'].value_counts()"
   ]
  },
  {
   "cell_type": "code",
   "execution_count": 10,
   "id": "ec07e8f0",
   "metadata": {
    "execution": {
     "iopub.execute_input": "2022-11-19T05:28:22.449126Z",
     "iopub.status.busy": "2022-11-19T05:28:22.448613Z",
     "iopub.status.idle": "2022-11-19T05:28:22.466576Z",
     "shell.execute_reply": "2022-11-19T05:28:22.465184Z"
    },
    "papermill": {
     "duration": 0.031352,
     "end_time": "2022-11-19T05:28:22.468848",
     "exception": false,
     "start_time": "2022-11-19T05:28:22.437496",
     "status": "completed"
    },
    "tags": []
   },
   "outputs": [
    {
     "data": {
      "text/html": [
       "<div>\n",
       "<style scoped>\n",
       "    .dataframe tbody tr th:only-of-type {\n",
       "        vertical-align: middle;\n",
       "    }\n",
       "\n",
       "    .dataframe tbody tr th {\n",
       "        vertical-align: top;\n",
       "    }\n",
       "\n",
       "    .dataframe thead th {\n",
       "        text-align: right;\n",
       "    }\n",
       "</style>\n",
       "<table border=\"1\" class=\"dataframe\">\n",
       "  <thead>\n",
       "    <tr style=\"text-align: right;\">\n",
       "      <th></th>\n",
       "      <th>mean_radius</th>\n",
       "      <th>mean_texture</th>\n",
       "      <th>mean_perimeter</th>\n",
       "      <th>mean_area</th>\n",
       "      <th>mean_smoothness</th>\n",
       "    </tr>\n",
       "    <tr>\n",
       "      <th>diagnosis</th>\n",
       "      <th></th>\n",
       "      <th></th>\n",
       "      <th></th>\n",
       "      <th></th>\n",
       "      <th></th>\n",
       "    </tr>\n",
       "  </thead>\n",
       "  <tbody>\n",
       "    <tr>\n",
       "      <th>0</th>\n",
       "      <td>17.462830</td>\n",
       "      <td>21.604906</td>\n",
       "      <td>115.365377</td>\n",
       "      <td>978.376415</td>\n",
       "      <td>0.102898</td>\n",
       "    </tr>\n",
       "    <tr>\n",
       "      <th>1</th>\n",
       "      <td>12.146524</td>\n",
       "      <td>17.914762</td>\n",
       "      <td>78.075406</td>\n",
       "      <td>462.790196</td>\n",
       "      <td>0.092478</td>\n",
       "    </tr>\n",
       "  </tbody>\n",
       "</table>\n",
       "</div>"
      ],
      "text/plain": [
       "           mean_radius  mean_texture  mean_perimeter   mean_area  \\\n",
       "diagnosis                                                          \n",
       "0            17.462830     21.604906      115.365377  978.376415   \n",
       "1            12.146524     17.914762       78.075406  462.790196   \n",
       "\n",
       "           mean_smoothness  \n",
       "diagnosis                   \n",
       "0                 0.102898  \n",
       "1                 0.092478  "
      ]
     },
     "execution_count": 10,
     "metadata": {},
     "output_type": "execute_result"
    }
   ],
   "source": [
    "data_frame.groupby('diagnosis').mean()"
   ]
  },
  {
   "cell_type": "code",
   "execution_count": 11,
   "id": "fbf7e54e",
   "metadata": {
    "execution": {
     "iopub.execute_input": "2022-11-19T05:28:22.490722Z",
     "iopub.status.busy": "2022-11-19T05:28:22.490332Z",
     "iopub.status.idle": "2022-11-19T05:28:22.497065Z",
     "shell.execute_reply": "2022-11-19T05:28:22.495783Z"
    },
    "papermill": {
     "duration": 0.020851,
     "end_time": "2022-11-19T05:28:22.499431",
     "exception": false,
     "start_time": "2022-11-19T05:28:22.478580",
     "status": "completed"
    },
    "tags": []
   },
   "outputs": [],
   "source": [
    "X = data_frame.drop(columns='diagnosis', axis=1)\n",
    "Y = data_frame['diagnosis']"
   ]
  },
  {
   "cell_type": "code",
   "execution_count": 12,
   "id": "93ecba95",
   "metadata": {
    "execution": {
     "iopub.execute_input": "2022-11-19T05:28:22.520569Z",
     "iopub.status.busy": "2022-11-19T05:28:22.520136Z",
     "iopub.status.idle": "2022-11-19T05:28:22.531812Z",
     "shell.execute_reply": "2022-11-19T05:28:22.530453Z"
    },
    "papermill": {
     "duration": 0.025559,
     "end_time": "2022-11-19T05:28:22.534684",
     "exception": false,
     "start_time": "2022-11-19T05:28:22.509125",
     "status": "completed"
    },
    "tags": []
   },
   "outputs": [
    {
     "name": "stdout",
     "output_type": "stream",
     "text": [
      "     mean_radius  mean_texture  mean_perimeter  mean_area  mean_smoothness\n",
      "0          17.99         10.38          122.80     1001.0          0.11840\n",
      "1          20.57         17.77          132.90     1326.0          0.08474\n",
      "2          19.69         21.25          130.00     1203.0          0.10960\n",
      "3          11.42         20.38           77.58      386.1          0.14250\n",
      "4          20.29         14.34          135.10     1297.0          0.10030\n",
      "..           ...           ...             ...        ...              ...\n",
      "564        21.56         22.39          142.00     1479.0          0.11100\n",
      "565        20.13         28.25          131.20     1261.0          0.09780\n",
      "566        16.60         28.08          108.30      858.1          0.08455\n",
      "567        20.60         29.33          140.10     1265.0          0.11780\n",
      "568         7.76         24.54           47.92      181.0          0.05263\n",
      "\n",
      "[569 rows x 5 columns]\n"
     ]
    }
   ],
   "source": [
    "print(X)"
   ]
  },
  {
   "cell_type": "code",
   "execution_count": 13,
   "id": "dd3aaa9d",
   "metadata": {
    "execution": {
     "iopub.execute_input": "2022-11-19T05:28:22.556106Z",
     "iopub.status.busy": "2022-11-19T05:28:22.555632Z",
     "iopub.status.idle": "2022-11-19T05:28:22.564007Z",
     "shell.execute_reply": "2022-11-19T05:28:22.562932Z"
    },
    "papermill": {
     "duration": 0.021632,
     "end_time": "2022-11-19T05:28:22.566290",
     "exception": false,
     "start_time": "2022-11-19T05:28:22.544658",
     "status": "completed"
    },
    "tags": []
   },
   "outputs": [],
   "source": [
    "X_train, X_test, Y_train, Y_test = train_test_split(X, Y, test_size=0.2, random_state=2)"
   ]
  },
  {
   "cell_type": "code",
   "execution_count": 14,
   "id": "a88f535d",
   "metadata": {
    "execution": {
     "iopub.execute_input": "2022-11-19T05:28:22.588794Z",
     "iopub.status.busy": "2022-11-19T05:28:22.587569Z",
     "iopub.status.idle": "2022-11-19T05:28:22.593949Z",
     "shell.execute_reply": "2022-11-19T05:28:22.592771Z"
    },
    "papermill": {
     "duration": 0.020235,
     "end_time": "2022-11-19T05:28:22.596662",
     "exception": false,
     "start_time": "2022-11-19T05:28:22.576427",
     "status": "completed"
    },
    "tags": []
   },
   "outputs": [
    {
     "name": "stdout",
     "output_type": "stream",
     "text": [
      "(569, 5) (455, 5) (114, 5)\n"
     ]
    }
   ],
   "source": [
    "print(X.shape, X_train.shape, X_test.shape)"
   ]
  },
  {
   "cell_type": "code",
   "execution_count": 15,
   "id": "4da31279",
   "metadata": {
    "execution": {
     "iopub.execute_input": "2022-11-19T05:28:22.618218Z",
     "iopub.status.busy": "2022-11-19T05:28:22.617542Z",
     "iopub.status.idle": "2022-11-19T05:28:22.622950Z",
     "shell.execute_reply": "2022-11-19T05:28:22.621927Z"
    },
    "papermill": {
     "duration": 0.019453,
     "end_time": "2022-11-19T05:28:22.625645",
     "exception": false,
     "start_time": "2022-11-19T05:28:22.606192",
     "status": "completed"
    },
    "tags": []
   },
   "outputs": [],
   "source": [
    "from sklearn.preprocessing import StandardScaler"
   ]
  },
  {
   "cell_type": "code",
   "execution_count": 16,
   "id": "88c89fc6",
   "metadata": {
    "execution": {
     "iopub.execute_input": "2022-11-19T05:28:22.647891Z",
     "iopub.status.busy": "2022-11-19T05:28:22.647133Z",
     "iopub.status.idle": "2022-11-19T05:28:22.658670Z",
     "shell.execute_reply": "2022-11-19T05:28:22.657370Z"
    },
    "papermill": {
     "duration": 0.025753,
     "end_time": "2022-11-19T05:28:22.661272",
     "exception": false,
     "start_time": "2022-11-19T05:28:22.635519",
     "status": "completed"
    },
    "tags": []
   },
   "outputs": [],
   "source": [
    "scaler = StandardScaler()\n",
    "\n",
    "X_train_std = scaler.fit_transform(X_train)\n",
    "\n",
    "X_test_std = scaler.transform(X_test)"
   ]
  },
  {
   "cell_type": "markdown",
   "id": "437acb5a",
   "metadata": {
    "papermill": {
     "duration": 0.009319,
     "end_time": "2022-11-19T05:28:22.680298",
     "exception": false,
     "start_time": "2022-11-19T05:28:22.670979",
     "status": "completed"
    },
    "tags": []
   },
   "source": [
    "![download.png](data:image/png;base64,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)"
   ]
  },
  {
   "cell_type": "code",
   "execution_count": 17,
   "id": "e540d29f",
   "metadata": {
    "execution": {
     "iopub.execute_input": "2022-11-19T05:28:22.701954Z",
     "iopub.status.busy": "2022-11-19T05:28:22.701243Z",
     "iopub.status.idle": "2022-11-19T05:28:29.313912Z",
     "shell.execute_reply": "2022-11-19T05:28:29.312756Z"
    },
    "papermill": {
     "duration": 6.626783,
     "end_time": "2022-11-19T05:28:29.316746",
     "exception": false,
     "start_time": "2022-11-19T05:28:22.689963",
     "status": "completed"
    },
    "tags": []
   },
   "outputs": [],
   "source": [
    "# importing tensorflow and Keras\n",
    "import tensorflow as tf \n",
    "tf.random.set_seed(3)\n",
    "from tensorflow import keras"
   ]
  },
  {
   "cell_type": "code",
   "execution_count": 18,
   "id": "1a064fb9",
   "metadata": {
    "execution": {
     "iopub.execute_input": "2022-11-19T05:28:29.338437Z",
     "iopub.status.busy": "2022-11-19T05:28:29.337687Z",
     "iopub.status.idle": "2022-11-19T05:28:30.864860Z",
     "shell.execute_reply": "2022-11-19T05:28:30.861813Z"
    },
    "papermill": {
     "duration": 1.542159,
     "end_time": "2022-11-19T05:28:30.868563",
     "exception": false,
     "start_time": "2022-11-19T05:28:29.326404",
     "status": "completed"
    },
    "tags": []
   },
   "outputs": [
    {
     "name": "stderr",
     "output_type": "stream",
     "text": [
      "2022-11-19 05:28:30.777500: I tensorflow/core/common_runtime/process_util.cc:146] Creating new thread pool with default inter op setting: 2. Tune using inter_op_parallelism_threads for best performance.\n"
     ]
    }
   ],
   "source": [
    "# setting up the layers of Neural Network\n",
    "\n",
    "model = keras.Sequential([\n",
    "                          keras.layers.Flatten(input_shape=(5,)),\n",
    "                          keras.layers.Dense(20, activation='relu'),\n",
    "                          keras.layers.Dense(2, activation='sigmoid')\n",
    "])"
   ]
  },
  {
   "cell_type": "code",
   "execution_count": 19,
   "id": "2f81dbcd",
   "metadata": {
    "execution": {
     "iopub.execute_input": "2022-11-19T05:28:30.890692Z",
     "iopub.status.busy": "2022-11-19T05:28:30.890252Z",
     "iopub.status.idle": "2022-11-19T05:28:30.907910Z",
     "shell.execute_reply": "2022-11-19T05:28:30.906460Z"
    },
    "papermill": {
     "duration": 0.032547,
     "end_time": "2022-11-19T05:28:30.911197",
     "exception": false,
     "start_time": "2022-11-19T05:28:30.878650",
     "status": "completed"
    },
    "tags": []
   },
   "outputs": [],
   "source": [
    "# compiling the Neural Network\n",
    "\n",
    "model.compile(optimizer='adam',\n",
    "              loss='sparse_categorical_crossentropy',\n",
    "              metrics=['accuracy'])"
   ]
  },
  {
   "cell_type": "code",
   "execution_count": 20,
   "id": "1ebe366f",
   "metadata": {
    "execution": {
     "iopub.execute_input": "2022-11-19T05:28:30.932960Z",
     "iopub.status.busy": "2022-11-19T05:28:30.932535Z",
     "iopub.status.idle": "2022-11-19T05:28:30.944288Z",
     "shell.execute_reply": "2022-11-19T05:28:30.942881Z"
    },
    "papermill": {
     "duration": 0.025743,
     "end_time": "2022-11-19T05:28:30.946943",
     "exception": false,
     "start_time": "2022-11-19T05:28:30.921200",
     "status": "completed"
    },
    "tags": []
   },
   "outputs": [],
   "source": [
    "# compiling the Neural Network\n",
    "\n",
    "model.compile(optimizer='adam',\n",
    "              loss='sparse_categorical_crossentropy',\n",
    "              metrics=['accuracy'])"
   ]
  },
  {
   "cell_type": "code",
   "execution_count": 21,
   "id": "eb075a2e",
   "metadata": {
    "execution": {
     "iopub.execute_input": "2022-11-19T05:28:30.977683Z",
     "iopub.status.busy": "2022-11-19T05:28:30.977016Z",
     "iopub.status.idle": "2022-11-19T05:28:32.621924Z",
     "shell.execute_reply": "2022-11-19T05:28:32.620387Z"
    },
    "papermill": {
     "duration": 1.660931,
     "end_time": "2022-11-19T05:28:32.624860",
     "exception": false,
     "start_time": "2022-11-19T05:28:30.963929",
     "status": "completed"
    },
    "tags": []
   },
   "outputs": [
    {
     "name": "stderr",
     "output_type": "stream",
     "text": [
      "2022-11-19 05:28:31.078139: I tensorflow/compiler/mlir/mlir_graph_optimization_pass.cc:185] None of the MLIR Optimization Passes are enabled (registered 2)\n"
     ]
    },
    {
     "name": "stdout",
     "output_type": "stream",
     "text": [
      "Epoch 1/10\n",
      "13/13 [==============================] - 1s 22ms/step - loss: 0.6524 - accuracy: 0.5110 - val_loss: 0.5960 - val_accuracy: 0.7826\n",
      "Epoch 2/10\n",
      "13/13 [==============================] - 0s 5ms/step - loss: 0.5685 - accuracy: 0.7824 - val_loss: 0.5279 - val_accuracy: 0.9130\n",
      "Epoch 3/10\n",
      "13/13 [==============================] - 0s 5ms/step - loss: 0.4966 - accuracy: 0.9144 - val_loss: 0.4687 - val_accuracy: 0.9130\n",
      "Epoch 4/10\n",
      "13/13 [==============================] - 0s 5ms/step - loss: 0.4381 - accuracy: 0.9291 - val_loss: 0.4169 - val_accuracy: 0.9130\n",
      "Epoch 5/10\n",
      "13/13 [==============================] - 0s 5ms/step - loss: 0.3893 - accuracy: 0.9340 - val_loss: 0.3739 - val_accuracy: 0.9130\n",
      "Epoch 6/10\n",
      "13/13 [==============================] - 0s 5ms/step - loss: 0.3493 - accuracy: 0.9340 - val_loss: 0.3367 - val_accuracy: 0.9130\n",
      "Epoch 7/10\n",
      "13/13 [==============================] - 0s 5ms/step - loss: 0.3165 - accuracy: 0.9364 - val_loss: 0.3064 - val_accuracy: 0.9130\n",
      "Epoch 8/10\n",
      "13/13 [==============================] - 0s 5ms/step - loss: 0.2896 - accuracy: 0.9315 - val_loss: 0.2819 - val_accuracy: 0.9130\n",
      "Epoch 9/10\n",
      "13/13 [==============================] - 0s 6ms/step - loss: 0.2675 - accuracy: 0.9340 - val_loss: 0.2611 - val_accuracy: 0.9130\n",
      "Epoch 10/10\n",
      "13/13 [==============================] - 0s 5ms/step - loss: 0.2495 - accuracy: 0.9364 - val_loss: 0.2440 - val_accuracy: 0.9130\n"
     ]
    }
   ],
   "source": [
    "# training the Meural Network\n",
    "\n",
    "history = model.fit(X_train_std, Y_train, validation_split=0.1, epochs=10)"
   ]
  },
  {
   "cell_type": "code",
   "execution_count": 22,
   "id": "2aa7e3b5",
   "metadata": {
    "execution": {
     "iopub.execute_input": "2022-11-19T05:28:32.649347Z",
     "iopub.status.busy": "2022-11-19T05:28:32.648918Z",
     "iopub.status.idle": "2022-11-19T05:28:32.941417Z",
     "shell.execute_reply": "2022-11-19T05:28:32.940039Z"
    },
    "papermill": {
     "duration": 0.308451,
     "end_time": "2022-11-19T05:28:32.944573",
     "exception": false,
     "start_time": "2022-11-19T05:28:32.636122",
     "status": "completed"
    },
    "tags": []
   },
   "outputs": [
    {
     "data": {
      "text/plain": [
       "<matplotlib.legend.Legend at 0x7fb9dda10d50>"
      ]
     },
     "execution_count": 22,
     "metadata": {},
     "output_type": "execute_result"
    },
    {
     "data": {
      "image/png": "[encoded data removed]",
      "text/plain": [
       "<Figure size 432x288 with 1 Axes>"
      ]
     },
     "metadata": {
      "needs_background": "light"
     },
     "output_type": "display_data"
    }
   ],
   "source": [
    "plt.plot(history.history['accuracy'])\n",
    "plt.plot(history.history['val_accuracy'])\n",
    "\n",
    "plt.title('model accuracy')\n",
    "plt.ylabel('accuracy')\n",
    "plt.xlabel('epoch')\n",
    "\n",
    "plt.legend(['training data', 'validation data'], loc = 'lower right')"
   ]
  },
  {
   "cell_type": "code",
   "execution_count": 23,
   "id": "1931cc5b",
   "metadata": {
    "execution": {
     "iopub.execute_input": "2022-11-19T05:28:32.971429Z",
     "iopub.status.busy": "2022-11-19T05:28:32.970959Z",
     "iopub.status.idle": "2022-11-19T05:28:33.247988Z",
     "shell.execute_reply": "2022-11-19T05:28:33.245825Z"
    },
    "papermill": {
     "duration": 0.294581,
     "end_time": "2022-11-19T05:28:33.251093",
     "exception": false,
     "start_time": "2022-11-19T05:28:32.956512",
     "status": "completed"
    },
    "tags": []
   },
   "outputs": [
    {
     "data": {
      "text/plain": [
       "<matplotlib.legend.Legend at 0x7fb9d5f5c750>"
      ]
     },
     "execution_count": 23,
     "metadata": {},
     "output_type": "execute_result"
    },
    {
     "data": {
      "image/png": "[encoded data removed]",
      "text/plain": [
       "<Figure size 432x288 with 1 Axes>"
      ]
     },
     "metadata": {
      "needs_background": "light"
     },
     "output_type": "display_data"
    }
   ],
   "source": [
    "plt.plot(history.history['loss'])\n",
    "plt.plot(history.history['val_loss'])\n",
    "\n",
    "plt.title('model loss')\n",
    "plt.ylabel('loss')\n",
    "plt.xlabel('epoch')\n",
    "\n",
    "plt.legend(['training data', 'validation data'], loc = 'upper right')"
   ]
  },
  {
   "cell_type": "code",
   "execution_count": 24,
   "id": "da27c6bc",
   "metadata": {
    "execution": {
     "iopub.execute_input": "2022-11-19T05:28:33.283521Z",
     "iopub.status.busy": "2022-11-19T05:28:33.281922Z",
     "iopub.status.idle": "2022-11-19T05:28:33.373920Z",
     "shell.execute_reply": "2022-11-19T05:28:33.372384Z"
    },
    "papermill": {
     "duration": 0.109771,
     "end_time": "2022-11-19T05:28:33.376696",
     "exception": false,
     "start_time": "2022-11-19T05:28:33.266925",
     "status": "completed"
    },
    "tags": []
   },
   "outputs": [
    {
     "name": "stdout",
     "output_type": "stream",
     "text": [
      "4/4 [==============================] - 0s 3ms/step - loss: 0.2362 - accuracy: 0.9211\n",
      "0.9210526347160339\n"
     ]
    }
   ],
   "source": [
    "loss, accuracy = model.evaluate(X_test_std, Y_test)\n",
    "print(accuracy)"
   ]
  },
  {
   "cell_type": "code",
   "execution_count": 25,
   "id": "2707e7c4",
   "metadata": {
    "execution": {
     "iopub.execute_input": "2022-11-19T05:28:33.402842Z",
     "iopub.status.busy": "2022-11-19T05:28:33.402429Z",
     "iopub.status.idle": "2022-11-19T05:28:33.408422Z",
     "shell.execute_reply": "2022-11-19T05:28:33.407145Z"
    },
    "papermill": {
     "duration": 0.022736,
     "end_time": "2022-11-19T05:28:33.411700",
     "exception": false,
     "start_time": "2022-11-19T05:28:33.388964",
     "status": "completed"
    },
    "tags": []
   },
   "outputs": [
    {
     "name": "stdout",
     "output_type": "stream",
     "text": [
      "(114, 5)\n",
      "[-0.04462793 -1.41612656 -0.05903514 -0.16234067  2.0202457 ]\n"
     ]
    }
   ],
   "source": [
    "print(X_test_std.shape)\n",
    "print(X_test_std[0])"
   ]
  },
  {
   "cell_type": "code",
   "execution_count": 26,
   "id": "67eae668",
   "metadata": {
    "execution": {
     "iopub.execute_input": "2022-11-19T05:28:33.440089Z",
     "iopub.status.busy": "2022-11-19T05:28:33.439653Z",
     "iopub.status.idle": "2022-11-19T05:28:33.579512Z",
     "shell.execute_reply": "2022-11-19T05:28:33.578422Z"
    },
    "papermill": {
     "duration": 0.156666,
     "end_time": "2022-11-19T05:28:33.582355",
     "exception": false,
     "start_time": "2022-11-19T05:28:33.425689",
     "status": "completed"
    },
    "tags": []
   },
   "outputs": [],
   "source": [
    "Y_pred = model.predict(X_test_std)"
   ]
  },
  {
   "cell_type": "code",
   "execution_count": 27,
   "id": "2d7d9090",
   "metadata": {
    "execution": {
     "iopub.execute_input": "2022-11-19T05:28:33.610073Z",
     "iopub.status.busy": "2022-11-19T05:28:33.609499Z",
     "iopub.status.idle": "2022-11-19T05:28:33.616810Z",
     "shell.execute_reply": "2022-11-19T05:28:33.615281Z"
    },
    "papermill": {
     "duration": 0.024305,
     "end_time": "2022-11-19T05:28:33.619553",
     "exception": false,
     "start_time": "2022-11-19T05:28:33.595248",
     "status": "completed"
    },
    "tags": []
   },
   "outputs": [
    {
     "name": "stdout",
     "output_type": "stream",
     "text": [
      "(114, 2)\n",
      "[0.35873517 0.5029589 ]\n"
     ]
    }
   ],
   "source": [
    "print(Y_pred.shape)\n",
    "print(Y_pred[0])"
   ]
  },
  {
   "cell_type": "code",
   "execution_count": 28,
   "id": "c9b826b2",
   "metadata": {
    "execution": {
     "iopub.execute_input": "2022-11-19T05:28:33.647444Z",
     "iopub.status.busy": "2022-11-19T05:28:33.646981Z",
     "iopub.status.idle": "2022-11-19T05:28:33.660653Z",
     "shell.execute_reply": "2022-11-19T05:28:33.658497Z"
    },
    "papermill": {
     "duration": 0.030524,
     "end_time": "2022-11-19T05:28:33.663695",
     "exception": false,
     "start_time": "2022-11-19T05:28:33.633171",
     "status": "completed"
    },
    "tags": []
   },
   "outputs": [
    {
     "name": "stdout",
     "output_type": "stream",
     "text": [
      "[[-0.04462793 -1.41612656 -0.05903514 -0.16234067  2.0202457 ]\n",
      " [ 0.24583601 -0.06219797  0.21802678  0.10121824 -0.42922355]\n",
      " [-1.26115925 -0.29051645 -1.26499659 -1.03398179 -0.90745995]\n",
      " [ 2.32749424  0.06794357  2.51739329  2.42738749  2.56800545]\n",
      " [ 0.09206098 -0.64669328  0.09928596 -0.0292873   0.10378882]\n",
      " [ 1.55292373  2.14564174  1.72578782  1.57244881 -0.24101892]\n",
      " [-0.66827109  0.18438599 -0.64490564 -0.6560536   0.90365851]\n",
      " [-0.25535667 -0.81108259 -0.31630692 -0.32342017 -0.76700874]\n",
      " [-0.52588681 -0.32704741 -0.55543773 -0.54140123 -0.66658611]\n",
      " [ 0.20312072 -1.06679928  0.12031298  0.08253415 -0.79439672]\n",
      " [-0.1898599   0.05881083 -0.24333079 -0.24387124 -0.38989721]\n",
      " [-0.7850262   0.43096995 -0.79415626 -0.7220141  -0.59284922]\n",
      " [-0.62840349 -0.45947213 -0.6407827  -0.61132502  1.8587268 ]\n",
      " [-0.53158218  0.04282853 -0.54430578 -0.53941958 -0.01208344]\n",
      " [-0.73376786 -0.14210944 -0.75869893 -0.68662757 -0.05562331]\n",
      " [ 1.45040705 -0.78368437  1.42481282  1.43090267 -0.63849587]\n",
      " [-0.79356926 -0.07589708 -0.82219229 -0.72880832 -1.028248  ]\n",
      " [-0.72807249 -1.12616209 -0.70468835 -0.70389619  0.26741449]\n",
      " [-0.67111878 -1.22205585 -0.72159242 -0.63482168 -1.25718349]\n",
      " [ 0.8837176   1.1752882   0.92593646  0.78658465  0.77725241]\n",
      " [-1.24321883 -0.92067546 -1.15285249 -0.99463196  0.78427498]\n",
      " [-0.75085397 -0.27681734 -0.74839157 -0.70333001 -0.52683715]\n",
      " [-0.25535667 -0.44348983 -0.31383315 -0.3112472  -1.67713263]\n",
      " [-0.39204558 -1.27685229 -0.41072236 -0.45137788  0.04479931]\n",
      " [ 0.12338553 -1.23118859  0.08732942 -0.02079453  0.97388412]\n",
      " [ 1.64974505  0.20265147  1.59797652  1.59226527  0.53848534]\n",
      " [-0.06456173  0.3031116  -0.08129904 -0.18895134 -0.01770148]\n",
      " [ 0.2686175  -0.60102958  0.28811684  0.10716318  0.19648662]\n",
      " [ 1.84338767 -0.36586155  1.6969272   1.90932862 -0.79299221]\n",
      " [ 1.80636776  0.54969556  1.73403371  1.81590817 -0.31826709]\n",
      " [ 0.33411427 -1.47548937  0.26502835  0.20935949 -0.99805099]\n",
      " [-0.59707895 -0.84989673 -0.60986061 -0.58952691  0.08412565]\n",
      " [-0.38065484 -1.37046286 -0.38969534 -0.41740681 -0.56827026]\n",
      " [ 1.88895064  2.68219017  1.81236967  2.17260444 -0.0942474 ]\n",
      " [ 1.62126819  1.31227929  1.59385357  1.52998497  0.383989  ]\n",
      " [-0.43760855 -0.06904752 -0.40495024 -0.4692127  -0.59214697]\n",
      " [-0.3094627   0.65015569 -0.40123959 -0.35427723 -2.35410751]\n",
      " [-0.18701221  0.50403186 -0.22931277 -0.25066546 -1.01209611]\n",
      " [-1.02707948 -0.17407402 -1.02586578 -0.8980975   0.75618473]\n",
      " [-1.20192739  0.00629758 -1.14584348 -1.00001072  0.31376339]\n",
      " [ 1.85193073  2.27350009  1.99377925  1.73664233  1.52866643]\n",
      " [ 0.57331986 -0.30193237  0.55074845  0.45706524  0.08272114]\n",
      " [-0.8248938   2.28263283 -0.86878157 -0.75173879 -1.51280471]\n",
      " [-1.09542394 -0.72888793 -1.03988379 -0.92668982  0.70702681]\n",
      " [-0.19840295  0.26201427 -0.12788832 -0.26850027  1.02304205]\n",
      " [-0.71098638 -0.23115364 -0.73643503 -0.67615315 -0.7691155 ]\n",
      " [-1.57355037 -1.43210885 -1.53422491 -1.21799177  0.53146278]\n",
      " [-0.81919843  0.11132408 -0.81642016 -0.74805859  0.65786888]\n",
      " [ 2.16802384 -0.48458716  2.02676281  2.53213164 -0.15393917]\n",
      " [ 1.19981071  0.27571338  1.19805084  1.13365578  0.75618473]\n",
      " [ 0.31133278 -1.40699382  0.24358904  0.17057585 -1.15184508]\n",
      " [ 1.12007551 -0.57591455  1.06199365  0.95813857 -0.46082508]\n",
      " [ 0.6843796  -0.24713594  0.61259263  0.5281214   0.05814217]\n",
      " [-0.73946323 -0.21060498 -0.7611727  -0.69115704 -0.18132715]\n",
      " [-1.11535774 -0.42065798 -1.09760502 -0.95811306  0.70702681]\n",
      " [ 0.29139898 -0.61472869  0.29017832  0.18416428 -0.51068526]\n",
      " [-0.67966183 -0.61701188 -0.70180229 -0.64529609  0.6368012 ]\n",
      " [-1.11820543 -1.02570196 -1.12110581 -0.96151017  1.21967375]\n",
      " [-0.76224472  0.23004969 -0.58388606 -0.7514557   3.26323899]\n",
      " [-1.02992717 -1.00287011 -0.99989122 -0.90007914  0.14943547]\n",
      " [-0.46323772 -0.17635721 -0.43917068 -0.48025329  0.25407162]\n",
      " [ 0.2287499   0.72093442  0.4270601   0.09470712  0.24143101]\n",
      " [-0.75939703 -0.90925953 -0.77024318 -0.71267206  0.02513614]\n",
      " [ 0.83245926  1.05199622  0.86821523  0.70137387  1.66209509]\n",
      " [ 1.72663256  0.06566038  1.62271419  1.76212064 -1.11181648]\n",
      " [ 0.04649801  0.0633772   0.25101034 -0.06127672 -1.24032934]\n",
      " [ 1.62696356  0.6341734   1.57736179  1.72248772  0.15996931]\n",
      " [ 1.17418154 -0.15352536  1.17743611  1.07986825  1.31798961]\n",
      " [ 1.06881717 -1.40242745  0.94242824  0.96408351 -1.23962709]\n",
      " [-0.65403266 -0.63756054 -0.52575253 -0.62151634  0.91770363]\n",
      " [ 0.61318746  0.03141261  0.74452687  0.46499182  0.46123717]\n",
      " [ 1.12577088 -0.73573749  1.17331317  1.00343333  0.73511705]\n",
      " [-0.3493303  -0.72203838 -0.38598469 -0.39447633 -0.12514667]\n",
      " [ 0.38822029  0.02456305  0.41056832  0.27560309  0.92472619]\n",
      " [-1.04131791 -0.89327724 -1.03576084 -0.91140283  0.65084632]\n",
      " [ 0.19457767  1.04286348  0.23328167  0.04743071  1.48653107]\n",
      " [-1.31896727  0.37389033 -1.30416457 -1.08182439  0.58764327]\n",
      " [-0.7650924  -1.95267499 -0.75869893 -0.70276383 -0.16166398]\n",
      " [ 0.0692795  -1.34763102  0.03166966 -0.0292873   0.21263851]\n",
      " [-0.03323719  0.05652764 -0.02563928 -0.14733678  0.70000424]\n",
      " [ 1.73232793  0.03826216  1.73403371  1.69417849  1.21265119]\n",
      " [ 0.28000824  1.45383674  0.25801934  0.18416428  0.44719205]\n",
      " [ 0.34265732  1.34652706  0.43942893  0.22889286  0.85450058]\n",
      " [-0.62840349 -0.23343683 -0.59460571 -0.62095016 -0.16868654]\n",
      " [-0.62840349  0.41042129 -0.6329491  -0.61642068  0.11923845]\n",
      " [ 0.78120092  0.01999668  0.68680564  0.64730325 -1.51561373]\n",
      " [-1.19395387 -0.29964919 -1.11904434 -0.98840393  0.0672715 ]\n",
      " [-0.54297292 -1.38872834 -0.52204188 -0.55414038  0.74213961]\n",
      " [-0.48601921 -0.43207391 -0.45772393 -0.53404083  0.57359815]\n",
      " [ 0.44517401  0.8739078   0.76101865  0.34524379  1.04410973]\n",
      " [-0.74231092 -1.09191432 -0.73189979 -0.69823435  0.60168839]\n",
      " [ 0.15471007 -0.57591455  0.10175972  0.04091959 -0.67571544]\n",
      " [-0.80496    -0.8841445  -0.75704975 -0.73475325 -0.86953813]\n",
      " [ 1.55292373  0.87619099  1.5320094   1.47902836  0.3488762 ]\n",
      " [ 0.45656475  0.21406739  0.38995359  0.32571042 -0.00435862]\n",
      " [-0.2895289  -0.83619762 -0.25198897 -0.37239514  0.80534266]\n",
      " [ 1.52159919 -0.12612714  1.49902584  1.4592119   0.90365851]\n",
      " [ 0.64166432  0.89445647  0.71154331  0.53463252  0.09746852]\n",
      " [-0.25250898  1.34196069 -0.31507003 -0.32172162 -0.57037703]\n",
      " [-0.69390026 -0.52568448 -0.74385633 -0.65265649 -1.43415203]\n",
      " [-0.91032437 -1.46407344 -0.95041588 -0.80609251 -1.46645581]\n",
      " [-0.1101247   0.332793   -0.06357038 -0.20848471  1.60591461]\n",
      " [ 2.56100446  0.10447452  2.48853267  2.91713713 -0.18343392]\n",
      " [ 2.13954698  0.6638548   2.1710659   2.13863337  1.45141826]\n",
      " [-0.52588681  0.70038576 -0.55914838 -0.52384951 -0.99102843]\n",
      " [-1.09257626 -0.63756054 -1.06750752 -0.93631495 -0.50998301]\n",
      " [-1.46562308 -0.8247817  -1.36064892 -1.15033272 -0.09916319]\n",
      " [-1.8241467   1.3853412  -1.78943522 -1.36208574 -0.65675453]\n",
      " [-1.56614638 -0.17635721 -1.55236587 -1.21827486  0.7983201 ]\n",
      " [-0.58568821  2.0018011  -0.61398356 -0.57084282 -0.59776502]\n",
      " [ 1.99431501  0.26201427  1.91132035  2.07352214  0.05673766]\n",
      " [ 0.72709489  0.45836817  0.75277276  0.71637776  1.12838046]\n",
      " [ 0.25437907  1.33054477  0.15659489  0.13377386 -0.1518324 ]\n",
      " [ 0.84100232 -0.06676434  0.8929529   0.68920091  1.26883168]]\n"
     ]
    }
   ],
   "source": [
    "print(X_test_std)"
   ]
  },
  {
   "cell_type": "code",
   "execution_count": 29,
   "id": "ac67ec6e",
   "metadata": {
    "execution": {
     "iopub.execute_input": "2022-11-19T05:28:33.692160Z",
     "iopub.status.busy": "2022-11-19T05:28:33.691637Z",
     "iopub.status.idle": "2022-11-19T05:28:33.702050Z",
     "shell.execute_reply": "2022-11-19T05:28:33.699874Z"
    },
    "papermill": {
     "duration": 0.027299,
     "end_time": "2022-11-19T05:28:33.704704",
     "exception": false,
     "start_time": "2022-11-19T05:28:33.677405",
     "status": "completed"
    },
    "tags": []
   },
   "outputs": [
    {
     "name": "stdout",
     "output_type": "stream",
     "text": [
      "[[0.35873517 0.5029589 ]\n",
      " [0.4865495  0.5156639 ]\n",
      " [0.13399896 0.77974653]\n",
      " [0.86323977 0.01299003]\n",
      " [0.41139638 0.5629847 ]\n",
      " [0.7840421  0.05543575]\n",
      " [0.2307291  0.57070976]\n",
      " [0.28091386 0.6579867 ]\n",
      " [0.24696037 0.6912068 ]\n",
      " [0.37594283 0.616423  ]\n",
      " [0.3549177  0.6269557 ]\n",
      " [0.23887283 0.7244575 ]\n",
      " [0.22032762 0.50656635]\n",
      " [0.2656489  0.6552681 ]\n",
      " [0.21436489 0.6811955 ]\n",
      " [0.70755506 0.29688114]\n",
      " [0.21112615 0.74410343]\n",
      " [0.18187591 0.64480716]\n",
      " [0.17596984 0.7396643 ]\n",
      " [0.6454229  0.10767207]\n",
      " [0.12059355 0.6719364 ]\n",
      " [0.20873678 0.70879483]\n",
      " [0.3247128  0.7232104 ]\n",
      " [0.2325584  0.6261682 ]\n",
      " [0.39751312 0.5576389 ]\n",
      " [0.75554585 0.09373751]\n",
      " [0.40022618 0.52948385]\n",
      " [0.48406368 0.51333034]\n",
      " [0.77125394 0.20523295]\n",
      " [0.7768807  0.10966209]\n",
      " [0.37080175 0.64973295]\n",
      " [0.21436974 0.644308  ]\n",
      " [0.23018411 0.65208924]\n",
      " [0.82825863 0.02808002]\n",
      " [0.75876594 0.06221172]\n",
      " [0.28815746 0.6759005 ]\n",
      " [0.4113211  0.7898232 ]\n",
      " [0.4175613  0.657018  ]\n",
      " [0.16274706 0.6660681 ]\n",
      " [0.1517959  0.7112771 ]\n",
      " [0.80447686 0.01452577]\n",
      " [0.5648236  0.36530936]\n",
      " [0.3367902  0.8176037 ]\n",
      " [0.13958183 0.66614497]\n",
      " [0.3768131  0.38645428]\n",
      " [0.21688703 0.7196671 ]\n",
      " [0.07698068 0.7195534 ]\n",
      " [0.20664465 0.63353443]\n",
      " [0.834313   0.10565975]\n",
      " [0.6953068  0.11976346]\n",
      " [0.37079778 0.64580536]\n",
      " [0.6434921  0.34784544]\n",
      " [0.5793027  0.3388222 ]\n",
      " [0.21072984 0.6885132 ]\n",
      " [0.14231971 0.6758839 ]\n",
      " [0.45259985 0.56475484]\n",
      " [0.20505774 0.62339365]\n",
      " [0.12609029 0.63582253]\n",
      " [0.23779246 0.26200217]\n",
      " [0.14046824 0.69101304]\n",
      " [0.27074656 0.62411535]\n",
      " [0.5288031  0.300763  ]\n",
      " [0.18261746 0.66891676]\n",
      " [0.62967956 0.08373186]\n",
      " [0.7567502  0.21988869]\n",
      " [0.45100388 0.62762856]\n",
      " [0.7667407  0.09201765]\n",
      " [0.6895624  0.11033788]\n",
      " [0.5593595  0.5638727 ]\n",
      " [0.22116771 0.60071653]\n",
      " [0.58948594 0.252971  ]\n",
      " [0.6643908  0.2109657 ]\n",
      " [0.26882216 0.6252968 ]\n",
      " [0.5593325  0.27789176]\n",
      " [0.13930479 0.6645161 ]\n",
      " [0.48893893 0.18485585]\n",
      " [0.14531502 0.71102864]\n",
      " [0.14823243 0.66545624]\n",
      " [0.3530445  0.6024522 ]\n",
      " [0.4135673  0.4213454 ]\n",
      " [0.77443385 0.06182799]\n",
      " [0.5322042  0.24559423]\n",
      " [0.55444115 0.17565936]\n",
      " [0.23453155 0.6728785 ]\n",
      " [0.26019043 0.64559865]\n",
      " [0.56602716 0.5099033 ]\n",
      " [0.14386782 0.7196286 ]\n",
      " [0.20276648 0.64078474]\n",
      " [0.25234726 0.6034342 ]\n",
      " [0.58750904 0.15878448]\n",
      " [0.18290439 0.6264086 ]\n",
      " [0.40669152 0.5936639 ]\n",
      " [0.17749107 0.7229446 ]\n",
      " [0.7471571  0.08273733]\n",
      " [0.55027217 0.33920762]\n",
      " [0.29014954 0.5945871 ]\n",
      " [0.73905724 0.0993073 ]\n",
      " [0.60721624 0.2070694 ]\n",
      " [0.40888578 0.61733705]\n",
      " [0.20426449 0.7610711 ]\n",
      " [0.13354656 0.7738425 ]\n",
      " [0.3957259  0.29127604]\n",
      " [0.87474346 0.05427682]\n",
      " [0.83139443 0.02560696]\n",
      " [0.31861675 0.71145064]\n",
      " [0.1424537  0.7398429 ]\n",
      " [0.09987837 0.7485182 ]\n",
      " [0.12256539 0.8244586 ]\n",
      " [0.10113868 0.7205932 ]\n",
      " [0.33766598 0.68785685]\n",
      " [0.80478346 0.08365476]\n",
      " [0.625119   0.14231852]\n",
      " [0.5121125  0.37852442]\n",
      " [0.63513345 0.16172206]]\n"
     ]
    }
   ],
   "source": [
    "print(Y_pred)"
   ]
  },
  {
   "cell_type": "code",
   "execution_count": 30,
   "id": "ab7c96ba",
   "metadata": {
    "execution": {
     "iopub.execute_input": "2022-11-19T05:28:33.733033Z",
     "iopub.status.busy": "2022-11-19T05:28:33.732564Z",
     "iopub.status.idle": "2022-11-19T05:28:33.739672Z",
     "shell.execute_reply": "2022-11-19T05:28:33.738488Z"
    },
    "papermill": {
     "duration": 0.024965,
     "end_time": "2022-11-19T05:28:33.743420",
     "exception": false,
     "start_time": "2022-11-19T05:28:33.718455",
     "status": "completed"
    },
    "tags": []
   },
   "outputs": [
    {
     "name": "stdout",
     "output_type": "stream",
     "text": [
      "[0.25, 0.56]\n",
      "1\n"
     ]
    }
   ],
   "source": [
    "#  argmax function\n",
    "\n",
    "my_list = [0.25, 0.56]\n",
    "\n",
    "index_of_max_value = np.argmax(my_list)\n",
    "print(my_list)\n",
    "print(index_of_max_value)"
   ]
  },
  {
   "cell_type": "code",
   "execution_count": 31,
   "id": "3fa0eea1",
   "metadata": {
    "execution": {
     "iopub.execute_input": "2022-11-19T05:28:33.772931Z",
     "iopub.status.busy": "2022-11-19T05:28:33.771610Z",
     "iopub.status.idle": "2022-11-19T05:28:33.778515Z",
     "shell.execute_reply": "2022-11-19T05:28:33.777241Z"
    },
    "papermill": {
     "duration": 0.023492,
     "end_time": "2022-11-19T05:28:33.780956",
     "exception": false,
     "start_time": "2022-11-19T05:28:33.757464",
     "status": "completed"
    },
    "tags": []
   },
   "outputs": [
    {
     "name": "stdout",
     "output_type": "stream",
     "text": [
      "[1, 1, 1, 0, 1, 0, 1, 1, 1, 1, 1, 1, 1, 1, 1, 0, 1, 1, 1, 0, 1, 1, 1, 1, 1, 0, 1, 1, 0, 0, 1, 1, 1, 0, 0, 1, 1, 1, 1, 1, 0, 0, 1, 1, 1, 1, 1, 1, 0, 0, 1, 0, 0, 1, 1, 1, 1, 1, 1, 1, 1, 0, 1, 0, 0, 1, 0, 0, 1, 1, 0, 0, 1, 0, 1, 0, 1, 1, 1, 1, 0, 0, 0, 1, 1, 0, 1, 1, 1, 0, 1, 1, 1, 0, 0, 1, 0, 0, 1, 1, 1, 0, 0, 0, 1, 1, 1, 1, 1, 1, 0, 0, 0, 0]\n"
     ]
    }
   ],
   "source": [
    "# converting the prediction probability to class labels\n",
    "\n",
    "Y_pred_labels = [np.argmax(i) for i in Y_pred]\n",
    "print(Y_pred_labels)"
   ]
  },
  {
   "cell_type": "markdown",
   "id": "80d3733c",
   "metadata": {
    "papermill": {
     "duration": 0.012647,
     "end_time": "2022-11-19T05:28:33.806998",
     "exception": false,
     "start_time": "2022-11-19T05:28:33.794351",
     "status": "completed"
    },
    "tags": []
   },
   "source": [
    "**Building the predictive system**"
   ]
  },
  {
   "cell_type": "code",
   "execution_count": 32,
   "id": "a0dd261b",
   "metadata": {
    "execution": {
     "iopub.execute_input": "2022-11-19T05:28:33.834571Z",
     "iopub.status.busy": "2022-11-19T05:28:33.834185Z",
     "iopub.status.idle": "2022-11-19T05:28:33.905507Z",
     "shell.execute_reply": "2022-11-19T05:28:33.903753Z"
    },
    "papermill": {
     "duration": 0.088258,
     "end_time": "2022-11-19T05:28:33.908267",
     "exception": false,
     "start_time": "2022-11-19T05:28:33.820009",
     "status": "completed"
    },
    "tags": []
   },
   "outputs": [
    {
     "name": "stdout",
     "output_type": "stream",
     "text": [
      "[[0.26441464 0.7172659 ]]\n",
      "[1]\n",
      "The tumor is Benign\n"
     ]
    },
    {
     "name": "stderr",
     "output_type": "stream",
     "text": [
      "/opt/conda/lib/python3.7/site-packages/sklearn/base.py:451: UserWarning: X does not have valid feature names, but StandardScaler was fitted with feature names\n",
      "  \"X does not have valid feature names, but\"\n"
     ]
    }
   ],
   "source": [
    "input_data = (11.76,21.6,74.72,427.9,0.08637)\n",
    "\n",
    "# change the input_data to a numpy array\n",
    "input_data_as_numpy_array = np.asarray(input_data)\n",
    "\n",
    "# reshape the numpy array as we are predicting for one data point\n",
    "input_data_reshaped = input_data_as_numpy_array.reshape(1,-1)\n",
    "\n",
    "# standardizing the input data\n",
    "input_data_std = scaler.transform(input_data_reshaped)\n",
    "\n",
    "prediction = model.predict(input_data_std)\n",
    "print(prediction)\n",
    "\n",
    "prediction_label = [np.argmax(prediction)]\n",
    "print(prediction_label)\n",
    "\n",
    "if(prediction_label[0] == 0):\n",
    "  print('The tumor is Malignant')\n",
    "\n",
    "else:\n",
    "  print('The tumor is Benign')"
   ]
  },
  {
   "cell_type": "code",
   "execution_count": null,
   "id": "b0e64ff1",
   "metadata": {
    "papermill": {
     "duration": 0.012694,
     "end_time": "2022-11-19T05:28:33.934830",
     "exception": false,
     "start_time": "2022-11-19T05:28:33.922136",
     "status": "completed"
    },
    "tags": []
   },
   "outputs": [],
   "source": []
  }
 ],
 "metadata": {
  "kernelspec": {
   "display_name": "Python 3",
   "language": "python",
   "name": "python3"
  },
  "language_info": {
   "codemirror_mode": {
    "name": "ipython",
    "version": 3
   },
   "file_extension": ".py",
   "mimetype": "text/x-python",
   "name": "python",
   "nbconvert_exporter": "python",
   "pygments_lexer": "ipython3",
   "version": "3.7.12"
  },
  "papermill": {
   "default_parameters": {},
   "duration": 26.261135,
   "end_time": "2022-11-19T05:28:37.496547",
   "environment_variables": {},
   "exception": null,
   "input_path": "__notebook__.ipynb",
   "output_path": "__notebook__.ipynb",
   "parameters": {},
   "start_time": "2022-11-19T05:28:11.235412",
   "version": "2.3.4"
  }
 },
 "nbformat": 4,
 "nbformat_minor": 5
}
